{
  "nbformat": 4,
  "nbformat_minor": 0,
  "metadata": {
    "colab": {
      "provenance": [],
      "authorship_tag": "ABX9TyPfeR3C/opCza7KktiiTEn6",
      "include_colab_link": true
    },
    "kernelspec": {
      "name": "python3",
      "display_name": "Python 3"
    },
    "language_info": {
      "name": "python"
    }
  },
  "cells": [
    {
      "cell_type": "markdown",
      "metadata": {
        "id": "view-in-github",
        "colab_type": "text"
      },
      "source": [
        "<a href=\"https://colab.research.google.com/github/princealexanderm/Computational-Physics/blob/main/UG_5_Computational_Physics_Chapter_2_numpy_matplotlib.ipynb\" target=\"_parent\"><img src=\"https://colab.research.google.com/assets/colab-badge.svg\" alt=\"Open In Colab\"/></a>"
      ]
    },
    {
      "cell_type": "markdown",
      "source": [
        "---"
      ],
      "metadata": {
        "id": "r11Mhcac9ix0"
      }
    },
    {
      "cell_type": "markdown",
      "source": [
        "# UG5 Computational Physics: Chapter-2"
      ],
      "metadata": {
        "id": "GnQ8_D1Qn3K3"
      }
    },
    {
      "cell_type": "markdown",
      "source": [
        "---"
      ],
      "metadata": {
        "id": "Sa8GIQn39kg2"
      }
    },
    {
      "cell_type": "markdown",
      "source": [
        "***Instructor: Prince Alex***\n",
        "\n",
        "***Affiliation: Department of Physics\n",
        " St. Joseph's College (Autonomous), Devagiri, Calicut***"
      ],
      "metadata": {
        "id": "6Zf6HvQtn-CO"
      }
    },
    {
      "cell_type": "markdown",
      "source": [
        "---"
      ],
      "metadata": {
        "id": "M2l5BqRGBRV0"
      }
    },
    {
      "cell_type": "markdown",
      "source": [
        "# The NumPy Module"
      ],
      "metadata": {
        "id": "sr-Irj01oLlO"
      }
    },
    {
      "cell_type": "markdown",
      "source": [
        "---"
      ],
      "metadata": {
        "id": "7L84IJtJBNfE"
      }
    },
    {
      "cell_type": "markdown",
      "source": [
        "## Introduction: NumPy"
      ],
      "metadata": {
        "id": "7p-Xf3lloQyC"
      }
    },
    {
      "cell_type": "markdown",
      "source": [
        "- NumPy is short for Numerical Python\n",
        "- It is a python library/module\n",
        "- NumPy module supports operations on compound data types like arrays and matrices. In another words, it is used for working with arrays and matrices\n",
        "- What is array?\n"
      ],
      "metadata": {
        "id": "uJg9625XoUAe"
      }
    },
    {
      "cell_type": "markdown",
      "source": [
        "**List:** We have seen earlier that a list consists of elements of all data type<br>\n",
        "          Eg. list=[1,3-9j,-2.23,’car’,23.5]<br>\n",
        "          The above list consists of numbers and strings\n"
      ],
      "metadata": {
        "id": "pqAyMcMVoae2"
      }
    },
    {
      "cell_type": "markdown",
      "source": [
        "**Array:** In python, we have list that serves the purpose of array when the list consists of only one type of data types<br>\n",
        "          Eg-1. a=[1,4,7,9,10]          #consisting of only integers<br>\n",
        "          Eg-2. b=[1.22,4.3,7.67,9.1,10.05]          #consisting of only floating numbers<br>\n",
        "          Eg-3. b=[1,6,14.22,7]                  #consisting of both integers and floating numbers, hence it is not a valid array"
      ],
      "metadata": {
        "id": "TWsFRR2yogbl"
      }
    },
    {
      "cell_type": "markdown",
      "source": [
        "**NumPy:** Numpy aims to provide an array object that is 50X faster than the traditional python list. NumPy arrays are stored at one continuous place in memory unlike list, so processes can access and manipulate them very efficiently. This behaviour is called locality of reference in computer science.<br><br>\n",
        "**ndarray:** NumPy’s main class is the homogenous (only one type of data type) multidimensional array called ndarray. In other words, array object in numpy is called ndarray. It provides a list of supporting functions that make working with ndarray very easy.<br><br>\n",
        "\n",
        "**Matrices:** The matrix objects are strictly 2-dimensional whereas the ndarray objects can be multi-dimensional. To create arrays in Python, use the Numpy library\n"
      ],
      "metadata": {
        "id": "ERM6tccNoqVD"
      }
    },
    {
      "cell_type": "markdown",
      "source": [
        "## Creating Arrays and Matrices"
      ],
      "metadata": {
        "id": "8PPdVrm1o5Hm"
      }
    },
    {
      "cell_type": "markdown",
      "source": [
        "- Python list can be converted into multidimensional array\n",
        "- There are several other functions that can be used for creating matrices.\n",
        "- Mathematical functions like sine, cosine etc of numpy accepts array object as arguments and return the result as array objects\n",
        "- NumPy array can be indexed, sliced and copies like python list<br><br>\n",
        "Following functions can be used for creating arrays\n"
      ],
      "metadata": {
        "id": "PIJZLyzBo9Na"
      }
    },
    {
      "cell_type": "markdown",
      "source": [
        "| Sl No | Hexa decimal  | Note |\n",
        "|----------|----------|----------|\n",
        "| 1 | array([]) <br><br> array([[]])<br><br> array([[[]]])<br><br> |1D<br><br>2D<br><br>3D|\n",
        "| 2 | arange(start,stop,step) |Only 1D array can be created|\n",
        "| 3 | linspace(start,stop,number of elements) | Only 1D array can be created|\n",
        "| 4 | zeros([x,y],datatype) | An array consists of only zero|\n",
        "| 5 | ones([x,y],datatyp)   | An array consists of only one|\n",
        "| 6 | random.random([x,y])  | Array consists of random numbers|\n",
        "| 7 | identity()   | Create an identity matrix|\n",
        "| 8 | reshape(a,[newshape])   | Reshape array a into a desired dimension|"
      ],
      "metadata": {
        "id": "wJzR49ojpJaV"
      }
    },
    {
      "cell_type": "markdown",
      "source": [
        "### **array ()**"
      ],
      "metadata": {
        "id": "fH8QMXJmqysF"
      }
    },
    {
      "cell_type": "markdown",
      "source": [
        "For creating array, you have to import numpy module first, then assign array to a variable(optional). Use the function array() to create array, either using a square bracket(list) or using parenthesis (tuple).It can be used for create multidimensional arrays. Examples are given below"
      ],
      "metadata": {
        "id": "iQlbEnKUq3Sq"
      }
    },
    {
      "cell_type": "markdown",
      "source": [
        "1. Create a one-dimensional array consisting of 5 elements"
      ],
      "metadata": {
        "id": "w2EhWX9Cq5qf"
      }
    },
    {
      "cell_type": "code",
      "execution_count": null,
      "metadata": {
        "colab": {
          "base_uri": "https://localhost:8080/"
        },
        "id": "Ient15bAnxOQ",
        "outputId": "a8ade3ad-bdb7-407d-9607-ccff77e6a59f"
      },
      "outputs": [
        {
          "output_type": "stream",
          "name": "stdout",
          "text": [
            "[1 2 3 4 5]\n",
            "type= <class 'numpy.ndarray'>\n",
            "dimension= 1\n"
          ]
        }
      ],
      "source": [
        "import numpy as np\n",
        "a=np.array([1,2,3,4,5])\n",
        "print(a)\n",
        "print('type=',type(a))\n",
        "print('dimension=',np.ndim(a))"
      ]
    },
    {
      "cell_type": "markdown",
      "source": [
        "2. Create a two-dimensional array consisting of 6 elements, two raw and three column"
      ],
      "metadata": {
        "id": "I1_vJeYUrH66"
      }
    },
    {
      "cell_type": "code",
      "source": [
        "import numpy as np\n",
        "a=np.array([[1,2,3],[7,4,1]])\n",
        "print(a)\n",
        "print('type=',type(a))\n",
        "print('dimension=',np.ndim(a))"
      ],
      "metadata": {
        "colab": {
          "base_uri": "https://localhost:8080/"
        },
        "id": "4vMRb-3eq9AE",
        "outputId": "64d7b7c6-1422-4d29-a950-b154b848a6a9"
      },
      "execution_count": null,
      "outputs": [
        {
          "output_type": "stream",
          "name": "stdout",
          "text": [
            "[[1 2 3]\n",
            " [7 4 1]]\n",
            "type= <class 'numpy.ndarray'>\n",
            "dimension= 2\n"
          ]
        }
      ]
    },
    {
      "cell_type": "markdown",
      "source": [
        "**Note: **No of square bracket in the beginning indicate the dimension"
      ],
      "metadata": {
        "id": "jbEyMgUDrSC1"
      }
    },
    {
      "cell_type": "markdown",
      "source": [
        "3. Create a two-dimensional array consisting of 6 elements, three raw and two column"
      ],
      "metadata": {
        "id": "LRDaHvcbrU_9"
      }
    },
    {
      "cell_type": "code",
      "source": [
        "import numpy as np\n",
        "a=np.array([[1,2],[5,3],[4,1]])\n",
        "print(a)"
      ],
      "metadata": {
        "colab": {
          "base_uri": "https://localhost:8080/"
        },
        "id": "S44gJioFrXXC",
        "outputId": "f48ce8d3-551b-4687-fb7f-a879fa3d6d69"
      },
      "execution_count": null,
      "outputs": [
        {
          "output_type": "stream",
          "name": "stdout",
          "text": [
            "[[1 2]\n",
            " [5 3]\n",
            " [4 1]]\n"
          ]
        }
      ]
    },
    {
      "cell_type": "markdown",
      "source": [
        "4. Create a three-dimensional array consisting of 12 elements, three raw and four column"
      ],
      "metadata": {
        "id": "CEYn2JyMra_O"
      }
    },
    {
      "cell_type": "code",
      "source": [
        "import numpy as np\n",
        "a=np.array([[[3,7,1,4],[1,6,22,1],[9,7,8,3]]])\n",
        "print(a)\n",
        "print('type=',type(a))\n",
        "print('dimension=',np.ndim(a))"
      ],
      "metadata": {
        "colab": {
          "base_uri": "https://localhost:8080/"
        },
        "id": "9aYiIMaLrYDl",
        "outputId": "42e5b0d4-2ad4-4a61-9793-a938a97f47de"
      },
      "execution_count": null,
      "outputs": [
        {
          "output_type": "stream",
          "name": "stdout",
          "text": [
            "[[[ 3  7  1  4]\n",
            "  [ 1  6 22  1]\n",
            "  [ 9  7  8  3]]]\n",
            "type= <class 'numpy.ndarray'>\n",
            "dimension= 3\n"
          ]
        }
      ]
    },
    {
      "cell_type": "markdown",
      "source": [
        "5. Find the dimension of the given array (use of ndim() function)"
      ],
      "metadata": {
        "id": "s-H5vSlYrni7"
      }
    },
    {
      "cell_type": "code",
      "source": [
        "import numpy as np\n",
        "a=np.array([[[3,7,1,4],[1,6,22,1],[9,7,8,3]]])\n",
        "print(a)\n",
        "print('dim=',np.ndim(a))"
      ],
      "metadata": {
        "colab": {
          "base_uri": "https://localhost:8080/"
        },
        "id": "6ZF_fj3GrnTe",
        "outputId": "f9dae9fc-7453-4b60-bf0f-4b8f6e899c9f"
      },
      "execution_count": null,
      "outputs": [
        {
          "output_type": "stream",
          "name": "stdout",
          "text": [
            "[[[ 3  7  1  4]\n",
            "  [ 1  6 22  1]\n",
            "  [ 9  7  8  3]]]\n",
            "dim= 3\n"
          ]
        }
      ]
    },
    {
      "cell_type": "markdown",
      "source": [
        "### arrange (start, stop, step, datatype)"
      ],
      "metadata": {
        "id": "1WeJb5I9ruJP"
      }
    },
    {
      "cell_type": "markdown",
      "source": [
        "Creates an evenly spaced one-dimensional array. Start, stop, stepsize and datatype are the arguments. If datatype is not given, it is deduced from the other arguments. Note that, the values are generated within the interval, including start but excluding stop.\n",
        "\n",
        "It is arange() not arrange(), only one r.\n",
        "\n",
        "Depending on the requirement, any one of the following syntax can be used\n"
      ],
      "metadata": {
        "id": "U2_5aMN2r0p-"
      }
    },
    {
      "cell_type": "markdown",
      "source": [
        "| syntax |\n",
        "|----------|\n",
        "| arange(stop) |\n",
        "| arange(start,stop) |\n",
        "| arange(start,stop,step) |\n",
        "| arange(start,stop,step,dtype=datatype) |\n",
        "| arange(start,stop,step,'datatype') |"
      ],
      "metadata": {
        "id": "vUAZ33FTr7iW"
      }
    },
    {
      "cell_type": "markdown",
      "source": [
        "6. Create an array using arange function consisting of 10 elements"
      ],
      "metadata": {
        "id": "BdNN8VmVsZ08"
      }
    },
    {
      "cell_type": "code",
      "source": [
        "import numpy as np\n",
        "a=np.arange(10)\n",
        "print(a)"
      ],
      "metadata": {
        "colab": {
          "base_uri": "https://localhost:8080/"
        },
        "id": "xOAekO2erwtx",
        "outputId": "1df15b2b-4ae8-49d8-977a-bca75a6472bf"
      },
      "execution_count": null,
      "outputs": [
        {
          "output_type": "stream",
          "name": "stdout",
          "text": [
            "[0 1 2 3 4 5 6 7 8 9]\n"
          ]
        }
      ]
    },
    {
      "cell_type": "markdown",
      "source": [
        "7. Create an array using arange function with elements between 5 and 25 with a step size of 5"
      ],
      "metadata": {
        "id": "dHX7D6obshJz"
      }
    },
    {
      "cell_type": "code",
      "source": [
        "import numpy as np\n",
        "a=np.arange(5,26,5)\n",
        "print(a)"
      ],
      "metadata": {
        "colab": {
          "base_uri": "https://localhost:8080/"
        },
        "id": "ouDz58rlsepE",
        "outputId": "49f9ff54-763d-486f-9d26-720aa10e0dcd"
      },
      "execution_count": null,
      "outputs": [
        {
          "output_type": "stream",
          "name": "stdout",
          "text": [
            "[ 5 10 15 20 25]\n"
          ]
        }
      ]
    },
    {
      "cell_type": "markdown",
      "source": [
        "8. Create an array using arange function with elements between 5 and 25 with a step size of 5 where all elements are floating numbers"
      ],
      "metadata": {
        "id": "KwdFs-fcsnFb"
      }
    },
    {
      "cell_type": "code",
      "source": [
        "import numpy as np\n",
        "a=np.arange(5,26,5,dtype=float)\n",
        "print(a)"
      ],
      "metadata": {
        "colab": {
          "base_uri": "https://localhost:8080/"
        },
        "id": "TTAhmH6jskY3",
        "outputId": "9111a751-d2c5-419f-84b6-29fddcb84044"
      },
      "execution_count": null,
      "outputs": [
        {
          "output_type": "stream",
          "name": "stdout",
          "text": [
            "[ 5. 10. 15. 20. 25.]\n"
          ]
        }
      ]
    },
    {
      "cell_type": "markdown",
      "source": [
        "9. Create an array using arange function with elements between 2 and 16 with a step size of 2 where all elements are integers"
      ],
      "metadata": {
        "id": "z-LnIHgRss5K"
      }
    },
    {
      "cell_type": "code",
      "source": [
        "import numpy as np\n",
        "a=np.arange(2,17,2,'int')\n",
        "print(a)"
      ],
      "metadata": {
        "colab": {
          "base_uri": "https://localhost:8080/"
        },
        "id": "TcsYfPQBspvq",
        "outputId": "787ecf82-2e75-4d1a-8a89-255bed893731"
      },
      "execution_count": null,
      "outputs": [
        {
          "output_type": "stream",
          "name": "stdout",
          "text": [
            "[ 2  4  6  8 10 12 14 16]\n"
          ]
        }
      ]
    },
    {
      "cell_type": "markdown",
      "source": [
        "### linspace (start, stop, number of elements)"
      ],
      "metadata": {
        "id": "R9A47MYSsypC"
      }
    },
    {
      "cell_type": "markdown",
      "source": [
        "Similar to arange(). Start, stop and number of samples are the arguments.\n",
        "\n",
        "The syntax of linspace() is\n",
        "\n",
        "linspace(start,stop, number of elements)\n"
      ],
      "metadata": {
        "id": "BvwtW4D6s292"
      }
    },
    {
      "cell_type": "markdown",
      "source": [
        "10. Create an array using linspace() function with elements between  1 and 10 with total 10 elements"
      ],
      "metadata": {
        "id": "Ki8UVoJ1s7MH"
      }
    },
    {
      "cell_type": "code",
      "source": [
        "import numpy as np\n",
        "a=np.linspace(1,10,10)\n",
        "print(a)"
      ],
      "metadata": {
        "colab": {
          "base_uri": "https://localhost:8080/"
        },
        "id": "0yg2P8JusvnM",
        "outputId": "c67cd3e6-5eb6-4376-91a8-a8d89c463a88"
      },
      "execution_count": null,
      "outputs": [
        {
          "output_type": "stream",
          "name": "stdout",
          "text": [
            "[ 1.  2.  3.  4.  5.  6.  7.  8.  9. 10.]\n"
          ]
        }
      ]
    },
    {
      "cell_type": "markdown",
      "source": [
        "**Note:**unlike arange, linspace include stop number also"
      ],
      "metadata": {
        "id": "3f6ig2-ptCaC"
      }
    },
    {
      "cell_type": "markdown",
      "source": [
        "11. Create an array using linspace() function with elements between  1 and 10 with total 20 elements"
      ],
      "metadata": {
        "id": "_fvvJQsxtGmp"
      }
    },
    {
      "cell_type": "code",
      "source": [
        "import numpy as np\n",
        "a=np.linspace(1,10,20)\n",
        "print(a)"
      ],
      "metadata": {
        "colab": {
          "base_uri": "https://localhost:8080/"
        },
        "id": "eNUWY39Xs-aL",
        "outputId": "b254dcf7-01a7-48fd-ec83-80c410ee6253"
      },
      "execution_count": null,
      "outputs": [
        {
          "output_type": "stream",
          "name": "stdout",
          "text": [
            "[ 1.          1.47368421  1.94736842  2.42105263  2.89473684  3.36842105\n",
            "  3.84210526  4.31578947  4.78947368  5.26315789  5.73684211  6.21052632\n",
            "  6.68421053  7.15789474  7.63157895  8.10526316  8.57894737  9.05263158\n",
            "  9.52631579 10.        ]\n"
          ]
        }
      ]
    },
    {
      "cell_type": "markdown",
      "source": [
        "**Difference between arange and linspace:**<br> Third argument denote the steps between two near by elements in the array in arange() whereas third argument denote the number of elements between start and stop, including start and stop in linspace(). In arange(), element corresponding to stop is not included in the array."
      ],
      "metadata": {
        "id": "eBE5JWqMtNUS"
      }
    },
    {
      "cell_type": "markdown",
      "source": [
        "**arange()**"
      ],
      "metadata": {
        "id": "zcgSksS3tWYb"
      }
    },
    {
      "cell_type": "code",
      "source": [
        "np.arange(10,40,2)"
      ],
      "metadata": {
        "colab": {
          "base_uri": "https://localhost:8080/"
        },
        "id": "6OD5T6tztJ2J",
        "outputId": "b58dafa0-e00d-4da3-d2c2-4a071c52bef8"
      },
      "execution_count": null,
      "outputs": [
        {
          "output_type": "execute_result",
          "data": {
            "text/plain": [
              "array([10, 12, 14, 16, 18, 20, 22, 24, 26, 28, 30, 32, 34, 36, 38])"
            ]
          },
          "metadata": {},
          "execution_count": 15
        }
      ]
    },
    {
      "cell_type": "markdown",
      "source": [
        "40 is not included in the array"
      ],
      "metadata": {
        "id": "q3ydwCU6tfKy"
      }
    },
    {
      "cell_type": "markdown",
      "source": [
        "**linspace()**"
      ],
      "metadata": {
        "id": "HblZ_sNftiiK"
      }
    },
    {
      "cell_type": "code",
      "source": [
        "np.linspace(10,40,2)"
      ],
      "metadata": {
        "colab": {
          "base_uri": "https://localhost:8080/"
        },
        "id": "6EVTTYmBtbZh",
        "outputId": "ac62cae3-1a79-465e-caa4-ba1977c3bcac"
      },
      "execution_count": null,
      "outputs": [
        {
          "output_type": "execute_result",
          "data": {
            "text/plain": [
              "array([10., 40.])"
            ]
          },
          "metadata": {},
          "execution_count": 16
        }
      ]
    },
    {
      "cell_type": "markdown",
      "source": [
        "40 is included in the array"
      ],
      "metadata": {
        "id": "YQjZAfmztpaA"
      }
    },
    {
      "cell_type": "markdown",
      "source": [
        "consider another example"
      ],
      "metadata": {
        "id": "eArnJpKxtt8C"
      }
    },
    {
      "cell_type": "code",
      "source": [
        "np.arange(10,40,10)\n"
      ],
      "metadata": {
        "colab": {
          "base_uri": "https://localhost:8080/"
        },
        "id": "tKTXu3GgtmDM",
        "outputId": "6bb46f7f-5ead-4ab5-9c5c-27ea6be12a29"
      },
      "execution_count": null,
      "outputs": [
        {
          "output_type": "execute_result",
          "data": {
            "text/plain": [
              "array([10, 20, 30])"
            ]
          },
          "metadata": {},
          "execution_count": 17
        }
      ]
    },
    {
      "cell_type": "code",
      "source": [
        "np.linspace(10,40,10)"
      ],
      "metadata": {
        "colab": {
          "base_uri": "https://localhost:8080/"
        },
        "id": "5K7Eeb0ptxyy",
        "outputId": "a05bc09c-8da9-46aa-fa7b-e05820c2ed0a"
      },
      "execution_count": null,
      "outputs": [
        {
          "output_type": "execute_result",
          "data": {
            "text/plain": [
              "array([10.        , 13.33333333, 16.66666667, 20.        , 23.33333333,\n",
              "       26.66666667, 30.        , 33.33333333, 36.66666667, 40.        ])"
            ]
          },
          "metadata": {},
          "execution_count": 18
        }
      ]
    },
    {
      "cell_type": "markdown",
      "source": [
        "### zeros (shape, datatype)"
      ],
      "metadata": {
        "id": "t4Bz38a9t4xz"
      }
    },
    {
      "cell_type": "markdown",
      "source": [
        "Returns a new array of given shape and type, filled zeros. The arguments are shape and datatype. For example zeros( [3,2], 'oat') generates a 3 x 2 array filled with zeros as shown below. If not specified, the type of elements defaults to int.\n",
        "\n",
        "The syntax for zeros() is\n",
        "\n",
        "*zeros(shape)*\n",
        "\n",
        "or\n",
        "\n",
        "*zeros((shape),datatype)*\n"
      ],
      "metadata": {
        "id": "fPUE_Gwet-vO"
      }
    },
    {
      "cell_type": "markdown",
      "source": [
        "12. Create an 3x3 matrix with all elements are zero"
      ],
      "metadata": {
        "id": "7H5Jrw6TuGbm"
      }
    },
    {
      "cell_type": "code",
      "source": [
        "import numpy as np\n",
        "a=np.zeros((3,3))\n",
        "print(a)"
      ],
      "metadata": {
        "colab": {
          "base_uri": "https://localhost:8080/"
        },
        "id": "NPNJ7hp3t00C",
        "outputId": "c0ea72cd-30b6-46a9-aa8f-55a94502f566"
      },
      "execution_count": null,
      "outputs": [
        {
          "output_type": "stream",
          "name": "stdout",
          "text": [
            "[[0. 0. 0.]\n",
            " [0. 0. 0.]\n",
            " [0. 0. 0.]]\n"
          ]
        }
      ]
    },
    {
      "cell_type": "markdown",
      "source": [
        "13. Create an 5x3 matrix with all elements are zero"
      ],
      "metadata": {
        "id": "Ppifr94JuLeG"
      }
    },
    {
      "cell_type": "code",
      "source": [
        "import numpy as np\n",
        "a=np.zeros((5,3))\n",
        "print(a)"
      ],
      "metadata": {
        "colab": {
          "base_uri": "https://localhost:8080/"
        },
        "id": "ks_f2cYKuI-1",
        "outputId": "304ffcbb-c9f7-4436-9f15-c29f371f1c32"
      },
      "execution_count": null,
      "outputs": [
        {
          "output_type": "stream",
          "name": "stdout",
          "text": [
            "[[0. 0. 0.]\n",
            " [0. 0. 0.]\n",
            " [0. 0. 0.]\n",
            " [0. 0. 0.]\n",
            " [0. 0. 0.]]\n"
          ]
        }
      ]
    },
    {
      "cell_type": "markdown",
      "source": [
        "14. Create an 1-D matrix with 5 elements, all elements are zero"
      ],
      "metadata": {
        "id": "QxdCVb9vuWgq"
      }
    },
    {
      "cell_type": "code",
      "source": [
        "import numpy as np\n",
        "a=np.zeros((5))\n",
        "print(a)"
      ],
      "metadata": {
        "colab": {
          "base_uri": "https://localhost:8080/"
        },
        "id": "sET9za53uPV4",
        "outputId": "c84b3b26-6515-4924-99f9-101b1bb257ab"
      },
      "execution_count": null,
      "outputs": [
        {
          "output_type": "stream",
          "name": "stdout",
          "text": [
            "[0. 0. 0. 0. 0.]\n"
          ]
        }
      ]
    },
    {
      "cell_type": "markdown",
      "source": [
        "15. Create an 1-D matrix with 5 elements, all elements are integer zero"
      ],
      "metadata": {
        "id": "SD7Zxjtkuc-2"
      }
    },
    {
      "cell_type": "code",
      "source": [
        "import numpy as np\n",
        "a=np.zeros((5),dtype=int)\n",
        "print(a)"
      ],
      "metadata": {
        "colab": {
          "base_uri": "https://localhost:8080/"
        },
        "id": "6mGmrjRZuZK-",
        "outputId": "b086f234-c67b-4112-fa9a-7ad16f77ec57"
      },
      "execution_count": null,
      "outputs": [
        {
          "output_type": "stream",
          "name": "stdout",
          "text": [
            "[0 0 0 0 0]\n"
          ]
        }
      ]
    },
    {
      "cell_type": "markdown",
      "source": [
        "### ones (shape, datatype)"
      ],
      "metadata": {
        "id": "yIzBuIuruiK-"
      }
    },
    {
      "cell_type": "markdown",
      "source": [
        "Similar to zeros() except that the values are initialized to 1.\n",
        "\n",
        "The syntax for ones() is\n",
        "\n",
        "*ones(shape)*\n",
        "\n",
        "or\n",
        "\n",
        "*ones(shape,datatype)*\n",
        "\n",
        "Some examples are given below\n"
      ],
      "metadata": {
        "id": "hLzE2wwkutRT"
      }
    },
    {
      "cell_type": "markdown",
      "source": [
        "16. Create an 5x3 matrix with all elements are one"
      ],
      "metadata": {
        "id": "CvP5XJhbuzxK"
      }
    },
    {
      "cell_type": "code",
      "source": [
        "import numpy as np\n",
        "a=np.ones((5,3))\n",
        "print(a)"
      ],
      "metadata": {
        "colab": {
          "base_uri": "https://localhost:8080/"
        },
        "id": "65Gi4KE6ufbN",
        "outputId": "89dcd8d3-c5a2-4110-a5fe-af53a0141630"
      },
      "execution_count": null,
      "outputs": [
        {
          "output_type": "stream",
          "name": "stdout",
          "text": [
            "[[1. 1. 1.]\n",
            " [1. 1. 1.]\n",
            " [1. 1. 1.]\n",
            " [1. 1. 1.]\n",
            " [1. 1. 1.]]\n"
          ]
        }
      ]
    },
    {
      "cell_type": "markdown",
      "source": [
        "### Random number array"
      ],
      "metadata": {
        "id": "mK3vU3lTu5Ku"
      }
    },
    {
      "cell_type": "markdown",
      "source": [
        "####  **random.random()**:random numbers between 0 and 1:\n",
        "Similar to the functions above, but the matrix is filled with random numbers ranging from 0 to 1, of float type. For example, random.random([3,3]) will generate the 3x3 matrix;\n",
        "The syntax for creating random number array is\n",
        "\n",
        "*random.random(shape)*\n"
      ],
      "metadata": {
        "id": "_W9-djjju9tI"
      }
    },
    {
      "cell_type": "markdown",
      "source": [
        "17. Create an 3x2 matrix consisting of random numbers"
      ],
      "metadata": {
        "id": "cOX1YkEd1QEH"
      }
    },
    {
      "cell_type": "code",
      "source": [
        "import numpy as np\n",
        "a=np.random.random((3,2))\n",
        "print(a)"
      ],
      "metadata": {
        "colab": {
          "base_uri": "https://localhost:8080/"
        },
        "id": "XkO58JZZu2q7",
        "outputId": "364f04c6-b39c-4bc7-8fa6-c59403213590"
      },
      "execution_count": null,
      "outputs": [
        {
          "output_type": "stream",
          "name": "stdout",
          "text": [
            "[[0.53210565 0.40670111]\n",
            " [0.52411968 0.07069602]\n",
            " [0.5548088  0.33071991]]\n"
          ]
        }
      ]
    },
    {
      "cell_type": "markdown",
      "source": [
        "If you repeat the program again, it will create an entirely new set o random numbers."
      ],
      "metadata": {
        "id": "CtpyGhii1XIC"
      }
    },
    {
      "cell_type": "code",
      "source": [
        "import numpy as np\n",
        "a=np.random.random((3,2))\n",
        "print(a)"
      ],
      "metadata": {
        "colab": {
          "base_uri": "https://localhost:8080/"
        },
        "id": "p6GuqVTY1UfU",
        "outputId": "c932a7ce-d20c-4202-9d85-e1eebaff1012"
      },
      "execution_count": null,
      "outputs": [
        {
          "output_type": "stream",
          "name": "stdout",
          "text": [
            "[[0.80948894 0.99508194]\n",
            " [0.22900137 0.44655044]\n",
            " [0.84143013 0.60802049]]\n"
          ]
        }
      ]
    },
    {
      "cell_type": "markdown",
      "source": [
        "18. Create an 3x2 matrix consisting of random numbers"
      ],
      "metadata": {
        "id": "GhLOaHzc1a79"
      }
    },
    {
      "cell_type": "code",
      "source": [
        "import numpy as np\n",
        "a=np.random.random((3,2))\n",
        "print(a)"
      ],
      "metadata": {
        "colab": {
          "base_uri": "https://localhost:8080/"
        },
        "id": "vzkbPc0_1Yly",
        "outputId": "2fe2b54b-10c9-4677-cc7a-00f9ee4bbbad"
      },
      "execution_count": null,
      "outputs": [
        {
          "output_type": "stream",
          "name": "stdout",
          "text": [
            "[[0.47395528 0.33404549]\n",
            " [0.24195482 0.19460181]\n",
            " [0.55249294 0.71733586]]\n"
          ]
        }
      ]
    },
    {
      "cell_type": "markdown",
      "source": [
        "19. Create an 1-D matrix consisting of 7 random numbers"
      ],
      "metadata": {
        "id": "gl3HahlY1gd9"
      }
    },
    {
      "cell_type": "code",
      "source": [
        "import numpy as np\n",
        "a=np.random.random((7))\n",
        "print(a)"
      ],
      "metadata": {
        "colab": {
          "base_uri": "https://localhost:8080/"
        },
        "id": "a4hI1-yh1eDT",
        "outputId": "6ca53506-d0a0-44a1-d221-1682397627b9"
      },
      "execution_count": null,
      "outputs": [
        {
          "output_type": "stream",
          "name": "stdout",
          "text": [
            "[0.80060367 0.06634636 0.29372234 0.37658426 0.59964725 0.9303857\n",
            " 0.75635183]\n"
          ]
        }
      ]
    },
    {
      "cell_type": "markdown",
      "source": [
        "####  **random.randint(a,b,n)**: Creating integer random numbers between ‘a’ and ‘b’:"
      ],
      "metadata": {
        "id": "bIv7f4tW1l3h"
      }
    },
    {
      "cell_type": "markdown",
      "source": [
        "It create n integer random numbers between a and b"
      ],
      "metadata": {
        "id": "0LbG1zyB1xqf"
      }
    },
    {
      "cell_type": "markdown",
      "source": [
        "20. Create 10 random numbers between 5 and 100"
      ],
      "metadata": {
        "id": "5y8pWLfv10cY"
      }
    },
    {
      "cell_type": "code",
      "source": [
        "import numpy as np\n",
        "x=np.random.randint(5,100,10)\n",
        "print(x)"
      ],
      "metadata": {
        "colab": {
          "base_uri": "https://localhost:8080/"
        },
        "id": "gEZOWWb51jSt",
        "outputId": "07b7c13f-3b8c-4305-a491-702a4c9c9dcf"
      },
      "execution_count": null,
      "outputs": [
        {
          "output_type": "stream",
          "name": "stdout",
          "text": [
            "[82 13 95 10 53 74 39 39 78 75]\n"
          ]
        }
      ]
    },
    {
      "cell_type": "markdown",
      "source": [
        "#### **random.uniform(a,b,n)**: Creating floating random floating number ‘a’ and ‘b’:"
      ],
      "metadata": {
        "id": "YMBs6lwg160C"
      }
    },
    {
      "cell_type": "markdown",
      "source": [
        "It create n floating random numbers between a and b"
      ],
      "metadata": {
        "id": "huKBONj-2Cv4"
      }
    },
    {
      "cell_type": "markdown",
      "source": [
        "21. Create 10 floating random numbers between 5 and 100"
      ],
      "metadata": {
        "id": "d-Lf0s0z2Rmx"
      }
    },
    {
      "cell_type": "code",
      "source": [
        "import numpy as np\n",
        "y=np.random.uniform(5,100,10)\n",
        "print(y)"
      ],
      "metadata": {
        "colab": {
          "base_uri": "https://localhost:8080/"
        },
        "id": "Pt9dlWuL138V",
        "outputId": "7545d330-946a-40bd-9f3c-bbc508cdd670"
      },
      "execution_count": null,
      "outputs": [
        {
          "output_type": "stream",
          "name": "stdout",
          "text": [
            "[35.83999617 45.70921849 15.09557156 39.44772198  5.0301572  65.18408887\n",
            " 55.03975504 95.84645613 45.05378102 84.75803155]\n"
          ]
        }
      ]
    },
    {
      "cell_type": "markdown",
      "source": [
        "### identity(shape)"
      ],
      "metadata": {
        "id": "Kz2-knIp2IKu"
      }
    },
    {
      "cell_type": "markdown",
      "source": [
        "The syntax for creating identity matrix is\n",
        "\n",
        "*identity(shape)*\n",
        "\n",
        "identity matrix are always square matrix,hence shape consists of only one digit denoting either row or column. Some examples are given below.\n"
      ],
      "metadata": {
        "id": "sPgrSck82Ldk"
      }
    },
    {
      "cell_type": "markdown",
      "source": [
        "22. create an identity matrix of size 3"
      ],
      "metadata": {
        "id": "nfXoWvcQ2Whz"
      }
    },
    {
      "cell_type": "code",
      "source": [
        "import numpy as np\n",
        "a=np.identity((3))\n",
        "print(a)"
      ],
      "metadata": {
        "colab": {
          "base_uri": "https://localhost:8080/"
        },
        "id": "B36hSR8Y2FTh",
        "outputId": "8ddc1664-c2cb-4d92-e036-fdba0525104b"
      },
      "execution_count": null,
      "outputs": [
        {
          "output_type": "stream",
          "name": "stdout",
          "text": [
            "[[1. 0. 0.]\n",
            " [0. 1. 0.]\n",
            " [0. 0. 1.]]\n"
          ]
        }
      ]
    },
    {
      "cell_type": "markdown",
      "source": [
        "### reshape (array, newshape)"
      ],
      "metadata": {
        "id": "FD0CNUNE2grQ"
      }
    },
    {
      "cell_type": "markdown",
      "source": [
        "We can also make multi-dimensions arrays by reshaping a one-dimensional array. The function reshape() changes dimensions of an array. The total number of elements must be preserved.\n",
        "The syntax for reshape is\n",
        "\n",
        "*reshape(array, newshape)*"
      ],
      "metadata": {
        "id": "0tYK1M6j2k19"
      }
    },
    {
      "cell_type": "markdown",
      "source": [
        "23. create a one dimensional matrix consisting of 12 elements and reshape into a 4x3 matrix"
      ],
      "metadata": {
        "id": "4O6K4-vT2ro6"
      }
    },
    {
      "cell_type": "code",
      "source": [
        "import numpy as np\n",
        "a=np.arange(1,13,1)\n",
        "print('a=',a)\n",
        "b=np.reshape(a,[4,3])       #instead of square bracket parenthesis\n",
        "print('b=',b)"
      ],
      "metadata": {
        "colab": {
          "base_uri": "https://localhost:8080/"
        },
        "id": "OJS9Ow6G2bHq",
        "outputId": "5beef591-e551-4926-bed0-4d7e31504e45"
      },
      "execution_count": null,
      "outputs": [
        {
          "output_type": "stream",
          "name": "stdout",
          "text": [
            "a= [ 1  2  3  4  5  6  7  8  9 10 11 12]\n",
            "b= [[ 1  2  3]\n",
            " [ 4  5  6]\n",
            " [ 7  8  9]\n",
            " [10 11 12]]\n"
          ]
        }
      ]
    },
    {
      "cell_type": "markdown",
      "source": [
        "## Copying array"
      ],
      "metadata": {
        "id": "G_KJBuR_21aR"
      }
    },
    {
      "cell_type": "markdown",
      "source": [
        "To make a copy c of an array a, ***c=a.copy*** can be used\n",
        "The idea is that suppose you created an array and made a copy of it. When you modify the copy, original array should not get affected. Consider the following example. Here a is the original array. A copy b of it is made using the command a=b and another copy is made using another method ***c=a.copy()***. Here the first element of b and c is changed. According to the concept of copying, the original array a should not change. Here you can see that the second method is the right way to make a copy of an array.\n"
      ],
      "metadata": {
        "id": "jiCjS6er25CE"
      }
    },
    {
      "cell_type": "code",
      "source": [
        "a=np.array([1,2,3,4])\n",
        "b=a\n",
        "c=a.copy()\n",
        "print('a=',a)\n",
        "print('b=',b)\n",
        "print('c=',c)"
      ],
      "metadata": {
        "colab": {
          "base_uri": "https://localhost:8080/"
        },
        "id": "TffPqjy02ufy",
        "outputId": "fd26cc1d-7c18-4423-afac-d8ccaece0e0b"
      },
      "execution_count": null,
      "outputs": [
        {
          "output_type": "stream",
          "name": "stdout",
          "text": [
            "a= [1 2 3 4]\n",
            "b= [1 2 3 4]\n",
            "c= [1 2 3 4]\n"
          ]
        }
      ]
    },
    {
      "cell_type": "markdown",
      "source": [
        "now modify original array a by replacing 1 with 100"
      ],
      "metadata": {
        "id": "Q0KPJaCk3FWM"
      }
    },
    {
      "cell_type": "code",
      "source": [
        "a[0]=100\n",
        "print(a)"
      ],
      "metadata": {
        "colab": {
          "base_uri": "https://localhost:8080/"
        },
        "id": "cb6PyM3E3ERn",
        "outputId": "25066e4e-7de8-41d5-dbf0-cdf0fbabf6a7"
      },
      "execution_count": null,
      "outputs": [
        {
          "output_type": "stream",
          "name": "stdout",
          "text": [
            "[100   2   3   4]\n"
          ]
        }
      ]
    },
    {
      "cell_type": "markdown",
      "source": [
        "now try to see what happened to b and c"
      ],
      "metadata": {
        "id": "TTDIO6US3ObW"
      }
    },
    {
      "cell_type": "code",
      "source": [
        "print(b)\n",
        "print(c)"
      ],
      "metadata": {
        "colab": {
          "base_uri": "https://localhost:8080/"
        },
        "id": "k6qEwMsg3NBI",
        "outputId": "3b98b636-bf1b-45a1-b870-049ef95575f7"
      },
      "execution_count": null,
      "outputs": [
        {
          "output_type": "stream",
          "name": "stdout",
          "text": [
            "[100   2   3   4]\n",
            "[1 2 3 4]\n"
          ]
        }
      ]
    },
    {
      "cell_type": "markdown",
      "source": [
        "you can see that when you change a, b also changed but c remain unchanged"
      ],
      "metadata": {
        "id": "WQ0uWpUg3Uw4"
      }
    },
    {
      "cell_type": "markdown",
      "source": [
        "## Various array operations"
      ],
      "metadata": {
        "id": "OQ-Sql1h3krD"
      }
    },
    {
      "cell_type": "markdown",
      "source": [
        "Array operations are two type\n",
        "- Arithmetic operations\n",
        "- Matrix operations"
      ],
      "metadata": {
        "id": "YSJUcl-43m70"
      }
    },
    {
      "cell_type": "markdown",
      "source": [
        "### Arithmetic operations"
      ],
      "metadata": {
        "id": "KRMY-Vy63tcw"
      }
    },
    {
      "cell_type": "markdown",
      "source": [
        "#### Adding an array with a number"
      ],
      "metadata": {
        "id": "yT0N9pp13xul"
      }
    },
    {
      "cell_type": "markdown",
      "source": [
        "24. Add a number 5 to a 3x3 array"
      ],
      "metadata": {
        "id": "toPzpvu142QZ"
      }
    },
    {
      "cell_type": "code",
      "source": [
        "import numpy as np\n",
        "b=np.array([[3,7,2],[6,1,0],[7,10,60]])\n",
        "print('b=\\n',b)\n",
        "c=b+5\n",
        "print('c=b+5=\\n',c)"
      ],
      "metadata": {
        "colab": {
          "base_uri": "https://localhost:8080/"
        },
        "id": "nyf2krMs3TqI",
        "outputId": "116f50a0-78e7-4611-beb4-05e9c299e5f5"
      },
      "execution_count": null,
      "outputs": [
        {
          "output_type": "stream",
          "name": "stdout",
          "text": [
            "b=\n",
            " [[ 3  7  2]\n",
            " [ 6  1  0]\n",
            " [ 7 10 60]]\n",
            "c=b+5=\n",
            " [[ 8 12  7]\n",
            " [11  6  5]\n",
            " [12 15 65]]\n"
          ]
        }
      ]
    },
    {
      "cell_type": "markdown",
      "source": [
        "#### Multiply an array with a number"
      ],
      "metadata": {
        "id": "caPYH_Rg4Hgo"
      }
    },
    {
      "cell_type": "markdown",
      "source": [
        "25. Multiply a number 5 to a 3x3 array"
      ],
      "metadata": {
        "id": "lM54uK6r4y3E"
      }
    },
    {
      "cell_type": "code",
      "source": [
        "import numpy as np\n",
        "b=np.array([[3,7,2],[6,1,0],[7,10,60]])\n",
        "print('b=\\n',b)\n",
        "d=b*5\n",
        "print('d=b*5=\\n',d)"
      ],
      "metadata": {
        "colab": {
          "base_uri": "https://localhost:8080/"
        },
        "id": "tT-sXQl032rK",
        "outputId": "454cdbc8-4b47-4b06-bd01-cfb249acd6fd"
      },
      "execution_count": null,
      "outputs": [
        {
          "output_type": "stream",
          "name": "stdout",
          "text": [
            "b=\n",
            " [[ 3  7  2]\n",
            " [ 6  1  0]\n",
            " [ 7 10 60]]\n",
            "d=b*5=\n",
            " [[ 15  35  10]\n",
            " [ 30   5   0]\n",
            " [ 35  50 300]]\n"
          ]
        }
      ]
    },
    {
      "cell_type": "markdown",
      "source": [
        "### Matrix operations"
      ],
      "metadata": {
        "id": "5wEn7haB4YMh"
      }
    },
    {
      "cell_type": "markdown",
      "source": [
        "Matrix operations are five type"
      ],
      "metadata": {
        "id": "MUF_0eLj4awT"
      }
    },
    {
      "cell_type": "markdown",
      "source": [
        "1. Adding two arrays having identical shape\n",
        "2. Multiplying two arrays having identical shape\n",
        "3. Cross product\n",
        "4. Dot product\n",
        "5. Matrix inversion\n"
      ],
      "metadata": {
        "id": "Y-TjDzYL4f2T"
      }
    },
    {
      "cell_type": "markdown",
      "source": [
        "#### Adding two arrays having identical shape"
      ],
      "metadata": {
        "id": "54UQaPtW4oWH"
      }
    },
    {
      "cell_type": "markdown",
      "source": [
        "26. Add a 3x3 matrix to another 3x3 matrix"
      ],
      "metadata": {
        "id": "vXo1lsAp5De_"
      }
    },
    {
      "cell_type": "code",
      "source": [
        "import numpy as np\n",
        "a=np.array([[3,7,2],[6,1,0],[7,10,60]])\n",
        "b=np.array([[1,4,2],[9,2,3],[1,5,8]])\n",
        "print('a=\\n',a)\n",
        "print('b=\\n',b)\n",
        "c=a+b\n",
        "print('c=a+b=\\n',c)"
      ],
      "metadata": {
        "colab": {
          "base_uri": "https://localhost:8080/"
        },
        "id": "lK2Rx5ZI4SgU",
        "outputId": "31d3b603-df72-4738-a64e-6687f531feaa"
      },
      "execution_count": null,
      "outputs": [
        {
          "output_type": "stream",
          "name": "stdout",
          "text": [
            "a=\n",
            " [[ 3  7  2]\n",
            " [ 6  1  0]\n",
            " [ 7 10 60]]\n",
            "b=\n",
            " [[1 4 2]\n",
            " [9 2 3]\n",
            " [1 5 8]]\n",
            "c=a+b=\n",
            " [[ 4 11  4]\n",
            " [15  3  3]\n",
            " [ 8 15 68]]\n"
          ]
        }
      ]
    },
    {
      "cell_type": "markdown",
      "source": [
        "#### Multiplying two arrays having identical shape"
      ],
      "metadata": {
        "id": "MkyNTAuW5RXH"
      }
    },
    {
      "cell_type": "markdown",
      "source": [
        "27. Multiply a 3x3 matrix to another 3x3 matrix"
      ],
      "metadata": {
        "id": "TnBwqo6Y5WUj"
      }
    },
    {
      "cell_type": "code",
      "source": [
        "import numpy as np\n",
        "a=np.array([[3,7,2],[6,1,0],[7,10,60]])\n",
        "b=np.array([[1,4,2],[9,2,3],[1,5,8]])\n",
        "print('a=\\n',a)\n",
        "print('b=\\n',b)\n",
        "d=a*b\n",
        "print('d=a*b\\n',d)"
      ],
      "metadata": {
        "colab": {
          "base_uri": "https://localhost:8080/"
        },
        "id": "mIR132u55KgL",
        "outputId": "41a4b545-4d24-4adb-e143-d28d4ec238e8"
      },
      "execution_count": null,
      "outputs": [
        {
          "output_type": "stream",
          "name": "stdout",
          "text": [
            "a=\n",
            " [[ 3  7  2]\n",
            " [ 6  1  0]\n",
            " [ 7 10 60]]\n",
            "b=\n",
            " [[1 4 2]\n",
            " [9 2 3]\n",
            " [1 5 8]]\n",
            "d=a*b\n",
            " [[  3  28   4]\n",
            " [ 54   2   0]\n",
            " [  7  50 480]]\n"
          ]
        }
      ]
    },
    {
      "cell_type": "markdown",
      "source": [
        "#### Cross product"
      ],
      "metadata": {
        "id": "GKxP8DXI5gja"
      }
    },
    {
      "cell_type": "markdown",
      "source": [
        "Syntax for finding the cross product of two matrix a and b is\n",
        "\n",
        "*c=cross(a,b)*\n"
      ],
      "metadata": {
        "id": "MXtwZuv05kY3"
      }
    },
    {
      "cell_type": "markdown",
      "source": [
        "28. Find the cross product of the two matrix given below\n",
        "\n",
        "a=[3 7 2]\t;\tb=[1 4 2]\n"
      ],
      "metadata": {
        "id": "Mf6gV0J55o_U"
      }
    },
    {
      "cell_type": "markdown",
      "source": [
        "These arrays in vector form can be written as<br>\n",
        "$a=3i+7j+2k$ <br>\n",
        "$b=i+4j+2k$<br>\n",
        "Therefore the cross product is<br>\n",
        "$c=a×b$\n"
      ],
      "metadata": {
        "id": "Ccry8VZa522Q"
      }
    },
    {
      "cell_type": "markdown",
      "source": [
        "![image.png](data:image/png;base64,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)"
      ],
      "metadata": {
        "id": "fUND0cm-6sVR"
      }
    },
    {
      "cell_type": "code",
      "source": [
        "import numpy as np\n",
        "a=np.array([3,7,2])\n",
        "print('a=',a)\n",
        "b=np.array([1,4,2])\n",
        "print('b=',b)\n",
        "c=np.cross(a,b)\n",
        "print('c=axb=',c)"
      ],
      "metadata": {
        "colab": {
          "base_uri": "https://localhost:8080/"
        },
        "id": "lxA4f2435bCg",
        "outputId": "d47206d0-a5eb-4665-bb8d-f7f63b881972"
      },
      "execution_count": null,
      "outputs": [
        {
          "output_type": "stream",
          "name": "stdout",
          "text": [
            "a= [3 7 2]\n",
            "b= [1 4 2]\n",
            "c=axb= [ 6 -4  5]\n"
          ]
        }
      ]
    },
    {
      "cell_type": "markdown",
      "source": [
        "#### Dot product"
      ],
      "metadata": {
        "id": "aAbSVttu6_0b"
      }
    },
    {
      "cell_type": "markdown",
      "source": [
        "Syntax for finding the dot product of two matrix a and b is\n",
        "\n",
        "*d=dot(a,b)*\n"
      ],
      "metadata": {
        "id": "Ww4yLAfH7DsI"
      }
    },
    {
      "cell_type": "markdown",
      "source": [
        "29. Find the dot product of the two matrix given below\n",
        "\n",
        "a=[3 7 2];\tb=[1 4 2]\n"
      ],
      "metadata": {
        "id": "Zd0AUfvc7Le6"
      }
    },
    {
      "cell_type": "markdown",
      "source": [
        "$c=a.b=(3i+7j+2k).(1i+4j+2k)=3+28+4=35$"
      ],
      "metadata": {
        "id": "Ws-ZVP5z7TXU"
      }
    },
    {
      "cell_type": "code",
      "source": [
        "import numpy as np\n",
        "a=np.array([3,7,2])\n",
        "print('a=',a)\n",
        "b=np.array([1,4,2])\n",
        "print('b=',b)\n",
        "d=np.dot(a,b)\n",
        "print('d=a.b=',d)"
      ],
      "metadata": {
        "colab": {
          "base_uri": "https://localhost:8080/"
        },
        "id": "Lvwg_1mX65Wy",
        "outputId": "7b123b7c-1c07-4e20-a826-93cdc94b6a71"
      },
      "execution_count": null,
      "outputs": [
        {
          "output_type": "stream",
          "name": "stdout",
          "text": [
            "a= [3 7 2]\n",
            "b= [1 4 2]\n",
            "d=a.b= 35\n"
          ]
        }
      ]
    },
    {
      "cell_type": "markdown",
      "source": [
        "30. Find the dot product of the two vectors $2i+3j-5k, 4i-6j$"
      ],
      "metadata": {
        "id": "pLfmNDaK7ddq"
      }
    },
    {
      "cell_type": "code",
      "source": [
        "import numpy as np\n",
        "a=np.array([2,3,-5])\n",
        "print('a=',a)\n",
        "b=np.array([4,0,-6])\n",
        "print('b=',b)\n",
        "d=np.dot(a,b)\n",
        "print('d=a.b=',d)"
      ],
      "metadata": {
        "colab": {
          "base_uri": "https://localhost:8080/"
        },
        "id": "OzXuTGx67X6y",
        "outputId": "865c864b-c107-4613-c716-e50ab3755451"
      },
      "execution_count": null,
      "outputs": [
        {
          "output_type": "stream",
          "name": "stdout",
          "text": [
            "a= [ 2  3 -5]\n",
            "b= [ 4  0 -6]\n",
            "d=a.b= 38\n"
          ]
        }
      ]
    },
    {
      "cell_type": "markdown",
      "source": [
        "31. find the dot product of the matrices,\n",
        "\n",
        "$$A=\n",
        "\\begin{pmatrix}\n",
        "1 & 2 & 3 \\\\\n",
        "4 & 5 & 6 \\\\\n",
        "7 & 8 & 8\n",
        "\\end{pmatrix}\n",
        "$$    \n",
        "$$B=\n",
        "\\begin{pmatrix}\n",
        "1 & 2 & 1 \\\\\n",
        "2 & 4 & 6 \\\\\n",
        "7 & 2 & 5\n",
        "\\end{pmatrix}\n",
        "$$"
      ],
      "metadata": {
        "id": "o6zty6eE748o"
      }
    },
    {
      "cell_type": "code",
      "source": [
        "import numpy as np\n",
        "A=np.array([[1,2,3],[4,5,6],[7,8,9]])\n",
        "B=np.array([[1,2,1],[2,4,6],[7,2,5]])\n",
        "print('A=\\n',A)\n",
        "print('B=\\n',B)\n",
        "c=np.dot(A,B)\n",
        "print('c=A.B=\\n',c)"
      ],
      "metadata": {
        "colab": {
          "base_uri": "https://localhost:8080/"
        },
        "id": "r1zf41Is7kXb",
        "outputId": "8268ecb8-51bb-47b4-c8e2-d05915e21e6e"
      },
      "execution_count": null,
      "outputs": [
        {
          "output_type": "stream",
          "name": "stdout",
          "text": [
            "A=\n",
            " [[1 2 3]\n",
            " [4 5 6]\n",
            " [7 8 9]]\n",
            "B=\n",
            " [[1 2 1]\n",
            " [2 4 6]\n",
            " [7 2 5]]\n",
            "c=A.B=\n",
            " [[ 26  16  28]\n",
            " [ 56  40  64]\n",
            " [ 86  64 100]]\n"
          ]
        }
      ]
    },
    {
      "cell_type": "markdown",
      "source": [
        "#### Inverse of a matrix"
      ],
      "metadata": {
        "id": "9EhxG2bA8vcN"
      }
    },
    {
      "cell_type": "markdown",
      "source": [
        "Syntax for finding the inverse of a matrix a is\n",
        "\n",
        "*ainv=linalg.inv(a)*\n"
      ],
      "metadata": {
        "id": "I4KiJbem8zLc"
      }
    },
    {
      "cell_type": "markdown",
      "source": [
        "32. Find the inverse of a matrix given below\n",
        "\n",
        "$$a=\n",
        "\\begin{pmatrix}\n",
        "3 & 7 & 2 \\\\\n",
        "6 & 1 & 3 \\\\\n",
        "7 & 2 & 6\n",
        "\\end{pmatrix}\n",
        "$$  "
      ],
      "metadata": {
        "id": "WuAbxO3c83br"
      }
    },
    {
      "cell_type": "markdown",
      "source": [
        "![image.png](data:image/png;base64,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)"
      ],
      "metadata": {
        "id": "qajTXeVz9TnU"
      }
    },
    {
      "cell_type": "code",
      "source": [
        "import numpy as np\n",
        "a=np.array([[3,7,2],[6,1,3],[7,2,6]])\n",
        "ainv=np.linalg.inv(a)\n",
        "print(ainv)"
      ],
      "metadata": {
        "colab": {
          "base_uri": "https://localhost:8080/"
        },
        "id": "_5Pq8EUA8d57",
        "outputId": "07b4693c-a54a-430b-a6bc-0d086a53ddcf"
      },
      "execution_count": null,
      "outputs": [
        {
          "output_type": "stream",
          "name": "stdout",
          "text": [
            "[[ 7.93016446e-18  4.00000000e-01 -2.00000000e-01]\n",
            " [ 1.57894737e-01 -4.21052632e-02 -3.15789474e-02]\n",
            " [-5.26315789e-02 -4.52631579e-01  4.10526316e-01]]\n"
          ]
        }
      ]
    },
    {
      "cell_type": "markdown",
      "source": [
        "### Solution of Simultaneous Euations"
      ],
      "metadata": {
        "id": "F29unW8f9aag"
      }
    },
    {
      "cell_type": "markdown",
      "source": [
        "33. Using matrix inversion, solve the system of equations\n",
        "\n",
        "$4x1 - 2x2 + x3 = 11$<br>\n",
        "$-2x1 + 4x2- 2x3 =-16$<br>\n",
        "$x1 - 2x2 + 4x3 = 17$\n"
      ],
      "metadata": {
        "id": "4V450Azr9fU4"
      }
    },
    {
      "cell_type": "markdown",
      "source": [
        "![image.png](data:image/png;base64,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)"
      ],
      "metadata": {
        "id": "klphaoGj9u1F"
      }
    },
    {
      "cell_type": "markdown",
      "source": [
        "![image.png](data:image/png;base64,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)"
      ],
      "metadata": {
        "id": "J8EfZjZ190bn"
      }
    },
    {
      "cell_type": "code",
      "source": [
        "import numpy as np\n",
        "a=np.array([[4,-2,1],[-2,4,-2],[1,-2,4]])\n",
        "print('a=',a)\n",
        "b=np.array([[11],[-16],[17]])\n",
        "print('b=',b)\n",
        "c= np.linalg.inv(a)\n",
        "print('c=',c)\n",
        "x=np.dot(c,b)\n",
        "print('x=',x)"
      ],
      "metadata": {
        "colab": {
          "base_uri": "https://localhost:8080/"
        },
        "id": "2EC_jZ549XdU",
        "outputId": "cf193483-2c34-4107-b3d3-5340fca77e2f"
      },
      "execution_count": null,
      "outputs": [
        {
          "output_type": "stream",
          "name": "stdout",
          "text": [
            "a= [[ 4 -2  1]\n",
            " [-2  4 -2]\n",
            " [ 1 -2  4]]\n",
            "b= [[ 11]\n",
            " [-16]\n",
            " [ 17]]\n",
            "c= [[0.33333333 0.16666667 0.        ]\n",
            " [0.16666667 0.41666667 0.16666667]\n",
            " [0.         0.16666667 0.33333333]]\n",
            "x= [[ 1.]\n",
            " [-2.]\n",
            " [ 3.]]\n"
          ]
        }
      ]
    },
    {
      "cell_type": "markdown",
      "source": [
        "## Exercise"
      ],
      "metadata": {
        "id": "FcsH_-jh99ot"
      }
    },
    {
      "cell_type": "markdown",
      "source": [
        "1. Write a program to multiply the two given matrix\n",
        "$$a=\n",
        "\\begin{pmatrix}\n",
        "2 & 1  \\\\\n",
        "3 & 4  \\\n",
        "\\end{pmatrix}\n",
        "$$\n",
        "$$b=\n",
        "\\begin{pmatrix}\n",
        "4 & 2  \\\\\n",
        "1 & 4  \\\n",
        "\\end{pmatrix}\n",
        "$$  \n",
        "\n",
        "2. Find the dot product of the two matrix given above\n",
        "3. Write a python program and hence prove $A.B \\neq B.A$\n"
      ],
      "metadata": {
        "id": "8KgPhhEs9_Kp"
      }
    },
    {
      "cell_type": "markdown",
      "source": [
        "## 2.7\tBasic statistical operations"
      ],
      "metadata": {
        "id": "yU0xg4iV-m1s"
      }
    },
    {
      "cell_type": "markdown",
      "source": [
        "Consider an array given by\n",
        "a=arrange(1,11,1)\n"
      ],
      "metadata": {
        "id": "l_v-Epp--t2E"
      }
    },
    {
      "cell_type": "code",
      "source": [
        "import numpy as np\n",
        "a=np.arange(1,11,1)\n",
        "print(a)"
      ],
      "metadata": {
        "id": "dCsGjs1g95pR",
        "colab": {
          "base_uri": "https://localhost:8080/"
        },
        "outputId": "6b00d9f4-da38-4dd1-9ef6-82976a0a1406"
      },
      "execution_count": null,
      "outputs": [
        {
          "output_type": "stream",
          "name": "stdout",
          "text": [
            "[ 1  2  3  4  5  6  7  8  9 10]\n"
          ]
        }
      ]
    },
    {
      "cell_type": "markdown",
      "source": [
        "| Operation | Meaning  | syntax |\n",
        "|----------|----------|----------|\n",
        "| length, N | Find the length of given array, a |len(a)|\n",
        "| sum, s| Find the sum of elements in an array, $s=Σx_{i}$ | sum(a)|\n",
        "| Product, p| Find the product of all elements in an array |prod(a) |\n",
        "| mean, m| Find the mean of elements in an arrry, $m=s/N$ | mean(a) |\n",
        "| varience, v | Find the varient of elements in an array | var(a)|"
      ],
      "metadata": {
        "id": "AfqTqxsh_GcB"
      }
    },
    {
      "cell_type": "code",
      "source": [
        "len(a)"
      ],
      "metadata": {
        "colab": {
          "base_uri": "https://localhost:8080/"
        },
        "id": "HYu8pFFm-0c8",
        "outputId": "e8140da5-81c9-4b43-92da-8ed22f7f4494"
      },
      "execution_count": null,
      "outputs": [
        {
          "output_type": "execute_result",
          "data": {
            "text/plain": [
              "10"
            ]
          },
          "metadata": {},
          "execution_count": 3
        }
      ]
    },
    {
      "cell_type": "code",
      "source": [
        "np.sum(a)"
      ],
      "metadata": {
        "colab": {
          "base_uri": "https://localhost:8080/"
        },
        "id": "1M2PYQsvAqUC",
        "outputId": "c236c15c-27d1-438c-905d-18ff53313f0f"
      },
      "execution_count": null,
      "outputs": [
        {
          "output_type": "execute_result",
          "data": {
            "text/plain": [
              "55"
            ]
          },
          "metadata": {},
          "execution_count": 6
        }
      ]
    },
    {
      "cell_type": "code",
      "source": [
        "np.prod(a)"
      ],
      "metadata": {
        "colab": {
          "base_uri": "https://localhost:8080/"
        },
        "id": "rSekLekJArrA",
        "outputId": "63b54f1a-bc1b-4485-cbd3-e024b6287fa3"
      },
      "execution_count": null,
      "outputs": [
        {
          "output_type": "execute_result",
          "data": {
            "text/plain": [
              "3628800"
            ]
          },
          "metadata": {},
          "execution_count": 7
        }
      ]
    },
    {
      "cell_type": "code",
      "source": [
        "np.mean(a)"
      ],
      "metadata": {
        "colab": {
          "base_uri": "https://localhost:8080/"
        },
        "id": "FIv5phXqAtMm",
        "outputId": "2b425320-1feb-43c0-e1af-bedf599c2638"
      },
      "execution_count": null,
      "outputs": [
        {
          "output_type": "execute_result",
          "data": {
            "text/plain": [
              "5.5"
            ]
          },
          "metadata": {},
          "execution_count": 8
        }
      ]
    },
    {
      "cell_type": "code",
      "source": [
        "np.var(a)"
      ],
      "metadata": {
        "colab": {
          "base_uri": "https://localhost:8080/"
        },
        "id": "Wqsk1qQRA0Br",
        "outputId": "611625df-7d99-4fba-c751-113ca00db350"
      },
      "execution_count": null,
      "outputs": [
        {
          "output_type": "execute_result",
          "data": {
            "text/plain": [
              "8.25"
            ]
          },
          "metadata": {},
          "execution_count": 9
        }
      ]
    },
    {
      "cell_type": "markdown",
      "source": [
        "---"
      ],
      "metadata": {
        "id": "UY6PuarlBArk"
      }
    },
    {
      "cell_type": "markdown",
      "source": [
        "## 2.8. Matplotlib Module"
      ],
      "metadata": {
        "id": "pJYGIeLlBDbX"
      }
    },
    {
      "cell_type": "markdown",
      "source": [
        "---"
      ],
      "metadata": {
        "id": "Uq9RLGnuBCHX"
      }
    },
    {
      "cell_type": "markdown",
      "source": [
        "You can import the module in any of the following way <br>\n",
        "- *import matplotlib*<br>\n",
        "This imports the entire library, but you would need to specify submodules explicitly when using them:<br>\n",
        "or <br>\n",
        "- *import matplotlib.pyplot as plt*<br>\n",
        "pyplot is the most commonly used submodule in matplotlib for plotting. This is the most typical way of using matplotlib. You can then use the plt alias for various plotting functions [recommended method]<br>\n",
        "or <br>\n",
        "- *from matplotlib.pyplot import* \\* <br>\n",
        "This approach is less recommended because it imports everything into the global namespace: <br>\n",
        "Or<br>\n",
        "- *from matplotlib.pyplot import plot, show*<br>\n",
        "If you only need a specific function, you can import it directly: You can now call the functions directly without using the plt alias:<br>\n",
        "Or<br>\n",
        "- *from pylab import* \\*  <br>\n",
        "\n",
        "**Note:**<br>\n",
        "\n",
        "- matplotlib is a comprehensive library for creating static, animated, and interactive visualizations in Python. Within matplotlib, the pyplot module is the most commonly used submodule for creating plots.\n",
        "- pylab is a convenience module that comes with matplotlib. It combines matplotlib.pyplot with NumPy into a single namespace, mimicking MATLAB’s environment, where both plotting and mathematical operations are accessible without needing separate imports.<br>\n"
      ],
      "metadata": {
        "id": "fZPk02fFBkLa"
      }
    },
    {
      "cell_type": "markdown",
      "source": [
        "### 2.8.1.Plot simple x and y data"
      ],
      "metadata": {
        "id": "DyJXEkGsDxA5"
      }
    },
    {
      "cell_type": "markdown",
      "source": [
        "1. Plot the following x and y data"
      ],
      "metadata": {
        "id": "aXOEaFIOEEVu"
      }
    },
    {
      "cell_type": "markdown",
      "source": [
        "| | | | | | | | | |  |  |\n",
        "|------|-------|------|------|------|------|------|------|------|------|------|\n",
        "| x | 1 | 2 | 3 | 4 | 5 | 6 | 7 | 8 | 9 | 10 |\n",
        "| y | 1 | 2 | 3 | 4 | 5 | 6 | 7 | 8 | 9 | 10 |\n",
        "\n"
      ],
      "metadata": {
        "id": "8DGLQSVOEWpO"
      }
    },
    {
      "cell_type": "code",
      "source": [
        "import matplotlib.pyplot as plt\n",
        "x=[1,2,3,4,5,6,7,8,9,10]\n",
        "y=[1,2,3,4,5,6,7,8,9,10]\n",
        "plt.plot(x,y)\n",
        "plt.show()\n"
      ],
      "metadata": {
        "id": "lBWXIVwrA1fp",
        "colab": {
          "base_uri": "https://localhost:8080/",
          "height": 430
        },
        "outputId": "3e330fcb-4c11-4f8a-bf13-02e6f7121e59"
      },
      "execution_count": null,
      "outputs": [
        {
          "output_type": "display_data",
          "data": {
            "text/plain": [
              "<Figure size 640x480 with 1 Axes>"
            ],
            "image/png": "[encoded data removed]"
          },
          "metadata": {}
        }
      ]
    },
    {
      "cell_type": "markdown",
      "source": [
        "2. Reduce the figure size of the above figure"
      ],
      "metadata": {
        "id": "X5mQ0uoHFoAy"
      }
    },
    {
      "cell_type": "code",
      "source": [
        "import matplotlib.pyplot as plt\n",
        "x=[1,2,3,4,5,6,7,8,9,10]\n",
        "y=[1,2,3,4,5,6,7,8,9,10]\n",
        "plt.figure(figsize=(5,3)) #length and width\n",
        "plt.plot(x,y)\n",
        "plt.show()"
      ],
      "metadata": {
        "colab": {
          "base_uri": "https://localhost:8080/",
          "height": 291
        },
        "id": "HSFAvLo1Fqh4",
        "outputId": "afdf421b-1f3d-4f87-bebe-b8a6631cd6e5"
      },
      "execution_count": null,
      "outputs": [
        {
          "output_type": "display_data",
          "data": {
            "text/plain": [
              "<Figure size 500x300 with 1 Axes>"
            ],
            "image/png": "[encoded data removed]"
          },
          "metadata": {}
        }
      ]
    },
    {
      "cell_type": "markdown",
      "source": [
        "Same program can be written in the following way if you are importing module as <br>\n",
        "*from matplotlib.pyplot import* \\*"
      ],
      "metadata": {
        "id": "S-CT1rw3F5Lx"
      }
    },
    {
      "cell_type": "code",
      "source": [
        "from matplotlib.pyplot import*\n",
        "x=[1,2,3,4,5,6,7,8,9,10]\n",
        "y=[1,2,3,4,5,6,7,8,9,10]\n",
        "figure(figsize=(5,3)) #length and width\n",
        "plot(x,y)\n",
        "show()"
      ],
      "metadata": {
        "colab": {
          "base_uri": "https://localhost:8080/",
          "height": 291
        },
        "id": "HO1LZ_R1GBqz",
        "outputId": "e3448729-2459-4264-a034-ac399d7d0665"
      },
      "execution_count": null,
      "outputs": [
        {
          "output_type": "display_data",
          "data": {
            "text/plain": [
              "<Figure size 500x300 with 1 Axes>"
            ],
            "image/png": "[encoded data removed]"
          },
          "metadata": {}
        }
      ]
    },
    {
      "cell_type": "markdown",
      "source": [
        "3. In the above graph, add the following properties\n",
        "\n",
        "a. change the color of the graph to red <br>\n",
        "b. Add a circle (o) marker<br>\n",
        "c. Add a grid<br>\n",
        "d. Add title, x and y label<br>\n"
      ],
      "metadata": {
        "id": "HJEPeYMeGOiq"
      }
    },
    {
      "cell_type": "code",
      "source": [
        "import matplotlib.pyplot as plt\n",
        "x=[1,2,3,4,5,6,7,8,9,10]\n",
        "y=[1,2,3,4,5,6,7,8,9,10]\n",
        "plt.plot(x,y,'o-r')\n",
        "plt.title('xy graph')\n",
        "plt.xlabel('x-data')\n",
        "plt.ylabel('y-data')\n",
        "plt.grid()\n",
        "plt.show()"
      ],
      "metadata": {
        "colab": {
          "base_uri": "https://localhost:8080/",
          "height": 472
        },
        "id": "JNeUIKNfGY0O",
        "outputId": "cc03b968-c07c-42b9-bfd6-4f9cf01df253"
      },
      "execution_count": null,
      "outputs": [
        {
          "output_type": "display_data",
          "data": {
            "text/plain": [
              "<Figure size 640x480 with 1 Axes>"
            ],
            "image/png": "[encoded data removed]"
          },
          "metadata": {}
        }
      ]
    },
    {
      "cell_type": "markdown",
      "source": [
        "Same program can be written in the following way if you are importing module as\n",
        "\n",
        "*from matplotlib.pyplot import* \\*"
      ],
      "metadata": {
        "id": "0yNhzLGNNKly"
      }
    },
    {
      "cell_type": "code",
      "source": [
        "from matplotlib.pyplot import*\n",
        "x=[1,2,3,4,5,6,7,8,9,10]\n",
        "y=[1,2,3,4,5,6,7,8,9,10]\n",
        "plot(x,y,'o-r')\n",
        "title('xy graph')\n",
        "xlabel('x-data')\n",
        "ylabel('y-data')\n",
        "grid()\n",
        "show()"
      ],
      "metadata": {
        "colab": {
          "base_uri": "https://localhost:8080/",
          "height": 472
        },
        "id": "xxFofJOENZF0",
        "outputId": "50521c72-cdd4-4891-b9e9-fe74658a9a3a"
      },
      "execution_count": null,
      "outputs": [
        {
          "output_type": "display_data",
          "data": {
            "text/plain": [
              "<Figure size 640x480 with 1 Axes>"
            ],
            "image/png": "[encoded data removed]"
          },
          "metadata": {}
        }
      ]
    },
    {
      "cell_type": "markdown",
      "source": [
        "4. In the same plot, add the following features\n",
        "\n",
        "- change the line to dash, change the line width to 4<br>\n",
        "- change the marker size to 7, change the marker edge color to green, change the marker face color to blue<br>\n",
        "- Change title font size to 18, x & y label font size to 15<br>\n",
        "- change the axis limit<br>\n"
      ],
      "metadata": {
        "id": "8877b3QCNgAJ"
      }
    },
    {
      "cell_type": "code",
      "source": [
        "import matplotlib.pyplot as plt\n",
        "x=[1,2,3,4,5,6,7,8,9,10]\n",
        "y=[1,2,3,4,5,6,7,8,9,10]\n",
        "plt.plot(x,y,'--r',linewidth=4,marker='o',ms='10',mec='m',mfc='g')\n",
        "#ms-marker size, mec= marker edge color, mfc=marker face color\n",
        "plt.title('xy graph',fontsize=18)\n",
        "plt.xlabel('x-data',fontsize=15)\n",
        "plt.ylabel('y-data',fontsize=15)\n",
        "plt.xlim(-2,15)\n",
        "plt.ylim(-2,15)\n",
        "plt.grid()\n",
        "plt.show()"
      ],
      "metadata": {
        "colab": {
          "base_uri": "https://localhost:8080/",
          "height": 483
        },
        "id": "FnXbrK4qNqE7",
        "outputId": "9d04dde9-46be-43f5-cc15-900a46021164"
      },
      "execution_count": null,
      "outputs": [
        {
          "output_type": "display_data",
          "data": {
            "text/plain": [
              "<Figure size 640x480 with 1 Axes>"
            ],
            "image/png": "[encoded data removed]"
          },
          "metadata": {}
        }
      ]
    },
    {
      "cell_type": "markdown",
      "source": [
        "5. In the above graph, change the cross running grid lines into horizontal grid lines"
      ],
      "metadata": {
        "id": "5wVJayYDN2ey"
      }
    },
    {
      "cell_type": "code",
      "source": [
        "import matplotlib.pyplot as plt\n",
        "x=[1,2,3,4,5,6,7,8,9,10]\n",
        "y=[1,2,3,4,5,6,7,8,9,10]\n",
        "plt.plot(x,y,'--r',linewidth=4,marker='o',ms='10',mec='m',mfc='g')\n",
        "plt.title('xy graph',fontsize=18)\n",
        "plt.xlabel('x-data',fontsize=15)\n",
        "plt.ylabel('y-data',fontsize=15)\n",
        "plt.grid(axis='x')\n",
        "plt.show()"
      ],
      "metadata": {
        "colab": {
          "base_uri": "https://localhost:8080/",
          "height": 483
        },
        "id": "1zn89BK6N9Ab",
        "outputId": "430150ce-bebb-4a74-8720-4b79e3cd4e71"
      },
      "execution_count": null,
      "outputs": [
        {
          "output_type": "display_data",
          "data": {
            "text/plain": [
              "<Figure size 640x480 with 1 Axes>"
            ],
            "image/png": "[encoded data removed]"
          },
          "metadata": {}
        }
      ]
    },
    {
      "cell_type": "markdown",
      "source": [
        "|Grid Lines |\n",
        "|------|\n",
        "| For horizontal grid lines: grid(axis='x') |\n",
        "| For vertical grid lines: grid(axis='y') |\n"
      ],
      "metadata": {
        "id": "AOfU9BzBOKFZ"
      }
    },
    {
      "cell_type": "markdown",
      "source": [
        "![image.png](data:image/png;base64,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)"
      ],
      "metadata": {
        "id": "hR4wW-0XOb6G"
      }
    },
    {
      "cell_type": "markdown",
      "source": [
        "**Line stype options**"
      ],
      "metadata": {
        "id": "qLs30NToPQAl"
      }
    },
    {
      "cell_type": "markdown",
      "source": [
        "|Line Style | Description | Resulting Line|\n",
        "|------|------|------|\n",
        "| \"-\"| Solid line | ___ |\n",
        "| \"--\"| Dashed Line | ---- |\n",
        "| \":\"| Dotted line | ..... |\n",
        "| \"-.\"| Dash-dotted line | -.-. |"
      ],
      "metadata": {
        "id": "ZRWDfaIyOiGF"
      }
    },
    {
      "cell_type": "markdown",
      "source": [
        "**Marker options**"
      ],
      "metadata": {
        "id": "v-46MTjUPT64"
      }
    },
    {
      "cell_type": "markdown",
      "source": [
        "|Line Style | Description | Resulting Line|\n",
        "|------|------|------|\n",
        "| \"o\"| Circle | O |\n",
        "| \"+\"| Plus sign | + |\n",
        "| \"*\"| Asterisk | * |\n",
        "| \".\"| Point | . |\n",
        "| \"x\"| Cross | . |\n",
        "| \"_\"| Horizonta line | . |\n",
        "| \"\\|\"| Vertical line | . |\n",
        "| \"s\"| Square | . |\n",
        "| \"d\"| Diamond | . |\n",
        "| \"^\"| Upward-pointing triangle | . |\n",
        "| \">\"| Right-pointing triangle | ![image.png](data:image/png;base64,iVBORw0KGgoAAAANSUhEUgAAAB4AAAAaCAYAAACgoey0AAAAAXNSR0IArs4c6QAAAARnQU1BAACxjwv8YQUAAAAJcEhZcwAADsMAAA7DAcdvqGQAAALbSURBVEhLzZU9SKpRGMf/dvtOihoKKrAglyywIVocQhwisIhAmgRpCFqCFiOHbmO01NAQBNHaIEotSlNBiktfU0SJBJIQtRRpZeee5+l06d6bvm8mcX8g6nmP/s/zcf6PAYCQr2/HICTq87dSot6/nf9XmCpxc3OD+/t7tVIcNIUfHh4wOjqK6elpnJycqNWvoylsMBhQV1cHo9GI4+NjLCws4Pz8XD0tHE3h0tJSuFwuOJ1OlJWVIRAI4PT0FPF4HJeXl8hms2rn59DVXHd3d6iuruYDhMNhNDQ0YH5+HpOTk0gmk2rX5/jxU6I+f8jLywsODg7Q0tKC5uZmVFRUoLa2lr+Xl5dja2sLZ2dnqKmpQVNTk/rVa1NSmXKhK2L6g/c+Q8I2mw0jIyNobGxEVVUV19/v9/Mhn5+f84oSuoRz0d7ejrm5OUxMTODp6QkrKyvY3NzkHqCDUrZy8SXh94yNjbEwHcbn82F2dhaJREI9/RdNr6ZI1tfX0dPTg97eXrWaG6o3pT2VSnHElZWVcDgcaGtrUzteKVrEb5jNZjacoaEhTjfVnNIfiUT+vHoUcT4eHx/F6uqqiMViakU/mUxGRKNRYbFYxMDAgLi+vhYyC/ys6BETVJ6NjQ14PB5cXV1haWkJi4uLfBveur2owjRI6ErJDLGzdXd3w2QycY27urrY+d4oirBMKWQaIcuB7e1t7OzsoLOzEzMzM7BarWrXX3DC86Cnxnt7e8LtdgvZUEKOUCEnmkin0+rpxxQcMaWVfNvr9eLi4gLDw8OYmppCfX09XyGy1nzoEpYH/F0fms9HR0cIhUI4PDyEjAytra08vex2O+/Rgy5h6kSqI3UrGcTa2hqCwSAPheXlZRZ83zh60HQuMnxqmP39fdze3qKjowODg4MsSmKU2kLQjJjcZnd3l2cy2WZfXx+kIfBUKlSU0BSmhMjOZsHx8XH09/ejpKTgnlQAvwAhG+2tu+O2tQAAAABJRU5ErkJggg==) |\n",
        "| \"<\"| Left-pointing triangle | ![image.png](data:image/png;base64,iVBORw0KGgoAAAANSUhEUgAAAB0AAAAXCAYAAAD3CERpAAAAAXNSR0IArs4c6QAAAARnQU1BAACxjwv8YQUAAAAJcEhZcwAADsMAAA7DAcdvqGQAAALHSURBVEhLtZY9SLpRFMYfwxKikIY+ICgcnAShhJYMXBykwYaighDEwbGhhjSCAqmpMWpwadAaciiqsaGoSOhDiAjCiFCoEEQzispu957uP/6l5lf9ltf3vYf7eO55znlfBePgDxDbKhQKefeVCnktm7e3N9zf3yMSieDp6SmnoODXRKPRKGZnZ9HW1ob9/X35NDtliyYSCUxMTMDr9VK2sVgMj4+PcjU7JYuenp5idXUVh4eHSCaTaG5uhk6no7WKijzbCiMVCs+EPTw8MF43Nj4+zkwmE5ufn2dclNZDoRDjgmxjY4Puc1FUpuLolpeX4XQ60dTUhLW1NdhsNtTW1tL66+srXX8ykaAg0YuLC7jdbng8HnR1dWF4eBjd3d0kVl1dLaMK50fR6+tryoYfG7VDXV0dtFotzGYzNBqNjCqeDFHhQNFnV1dX4LXB3NwceB0xNTWFyclJGVUeGaKi3xYWFjA2Noa7uzsEAgEMDAxQlr/Fp+jl5SVmZmZgt9thMBgwOjqK/v5+1NTUQKVS5TVHMXyKik3T6TRSqRSNsoaGBqrfnyBbh3h+fmbBYJD19vYyl8vFdnd3qS9fXl5kxM/wQUF9urm5KZ9k50tNKysraXYuLi6ivb2d6jk9PY3j42NwYRlVPhlGUiqV1HtGoxFDQ0OwWCxYX1/HyMgIlpaWZNQH/E/LX8WRIfoPMXFE1p2dnWhpaaFMz87OsLe3h5OTE5q3pZorp+j/OBwOcnZHRwf8fj98Ph8ODg6on0s69o/S5kcMe2GoeDzOVlZW2ODgIOvp6WE7OzuMz1yKOTo6KshIJX2u3N7e0jwOh8O4ubmh96fVakVVVRX0ej15QHghFwUd73caGxvJaH19fWhtbaVn5+fndORijObNQ2RaLnyosO3tbcZrz9RqNdva2pIr2fm1r0GRoTh2XlcyXH19vVz5DvAOSjeUTm50vh8AAAAASUVORK5CYII=) |\n",
        "| \"p\"| Pentagram | ![image.png](data:image/png;base64,iVBORw0KGgoAAAANSUhEUgAAABgAAAAWCAYAAADafVyIAAAAAXNSR0IArs4c6QAAAARnQU1BAACxjwv8YQUAAAAJcEhZcwAADsMAAA7DAcdvqGQAAAKzSURBVEhLtZW/S7JRFMe/mv2GhhYtaqlIiAokE6NMIapNGg2ksb+gPRoaWoIGB5emwIaGIkvExSEHMcki+mkUSEMNFaX9rvs+57z3fTVKewz6wOXxnnOf+72eH8/VCAX8Ilr5/DWKEnh9fcXT05OcqaMogd3dXaytraGYqKoWSKfTCIVCWFlZkRZ1qBaIx+PY2dnBw8MDNBqNtH6PaoFIJIL393fYbLai8qBa4ObmBu3t7ejr60MgEOC5GlQLNDU1oaurC5WVlZibm8P19bX0FEYnn1yCp6enODg4gFarhcFgQEVFBYfj7e0NjY2NaGtrw/PzM15eXrC1tcX5IF9ZWRn29vZQU1MDo9GIhoYGuSvwv5Pv7++5QjweDy4uLjAwMICWlhY8Pj4ik8nA6XSiu7ub162uriKVSrGQTqdjm8/ng8lkwvj4OAYHB3lzhgQIJYE8Dg8PxcjIiJicnBTb29vsu7u7E8rJ+TetUU7Og4hGo2J4eFjMzs6K/f199ufy5bdoc3MT5+fnUMQ4XBMTE9KThf7lwsICjo+PMTo6itbWVuj1el6fy4fZPy2z2QyLxcKh2djYwO3tLdtzWV9f596gTe12O+rq6j5tTnyw5DYQvUB56Ozs5BhTD1CCaRC0OfmnpqZ4no+CZXp5eYmzszM+JVWZ3+/H/Pw8+1wuFyd5eXmZ5/koKEAnp4YKh8OYmZlBMplESUkJxsbGUFtbyyGhEBYir4BSEVzrlOyTkxMOX0dHB5cqQfZEIoGjoyOe54Wq6Cu8Xq/o7e0VPT09IhgMCiUc0vOXxcVFYbVaxdDQkFDCJ62fyXtlTk9Pc1W53W5OeHl5ufRkWVpaQiwWQ39/PxwOB6qrq6UnS14Ban3atLm5WVo+c3V1xf1QVVWF+vp6lJaWSk+WH1/69Nr39wLwB6Anveq4D9lUAAAAAElFTkSuQmCC) |\n",
        "| \"h\"| Hexagram | ![image.png](data:image/png;base64,iVBORw0KGgoAAAANSUhEUgAAABsAAAAUCAYAAAB8gkaAAAAAAXNSR0IArs4c6QAAAARnQU1BAACxjwv8YQUAAAAJcEhZcwAADsMAAA7DAcdvqGQAAAKoSURBVEhLvZU/SHpRFMe//kkQ0YhKQsEtaAoKl4a2EBzMoZoTIWgwWoIgWqI92oSWImhJh5bAQfqDRUtETQ5SEZGINPQH7Y/W7Z7jDfPVU38Ovw883n3nnvu+75x7zn0GIcF/wqjuLfGv39my2NvbGwqFgnpqjpbF4vE4lpaW1FNztCR2cHCAVCqFfD6PXC6nrI1pSWxzcxNWqxWTk5PY3d3F/f29mqmPrtjn5ydfWm5vbzEwMIDx8XH09PRgZWUFNzc3arYWbQHplj6l6OjoiFP28PDAtlKphKenJ8zOzsLn8+H5+RlbW1vs9/LyAofDgba2NhaPRCIIBAK87hvdyGgRvTyRSHCaLBYLTCYTOjs70dfXxz52ux2hUAhutxtmsxnFYhFnZ2csRuK/oMj0eHx8FDIKcXh4qCxVZIrVqMrd3Z1YXl4WMlIhM6CsVeoWCH35wsICdnZ2sLa2pqwVDAaDGlWgnru4uMDV1RU8Hg+v1VJXjF7odDoxNDTEexiLxfDx8aFma9nf38fp6Snm5ubgcrmUtZamSl9mQFfkm3K5zD6019qov2koRsfS8fExOjo6MDExwUXyF8PDw+jv78fq6iqy2ayy1lJXjEp+fn4efr8f09PTylqBov0JVeng4CBsNhsuLy+5LbTo9tn7+ztOTk4wNTXFTdzb28tRUonPzMzU7Es0GmUBWpNOp7lVFhcXMTY2pjwq6EZGCyllIyMj6OrqwuvrK1dcJpPB9fU1+1BfbW9v8zONqRe9Xi/3He3dLyiyv5ANLeTLhdx0HhMyNSKZTIqNjQ0hIxDn5+dCRij29vZ4XhYJ+1IPyo/l6yd1/9Q0pa0sOi/D4TDa29v5OKLTYnR0FN3d3cqjinZ9wz7TYjQaEQwG+deyvr7Ogn8JEbXrgS88CtD3QN4UOgAAAABJRU5ErkJggg==) |\n",
        "| \",\"| Comma |  |"
      ],
      "metadata": {
        "id": "0oeFTUX_PYgS"
      }
    },
    {
      "cell_type": "markdown",
      "source": [
        "**Line color options**\n",
        "\n",
        "|Syntax | color | color|\n",
        "|------|------|------|\n",
        "| 'r' | Red | ![image.png](data:image/png;base64,iVBORw0KGgoAAAANSUhEUgAAABoAAAARCAYAAADDjbwNAAAAAXNSR0IArs4c6QAAAARnQU1BAACxjwv8YQUAAAAJcEhZcwAADsMAAA7DAcdvqGQAAAArSURBVDhPY/zPwABEtAdMUJrmYNQissGoRWSDUYvIBqMWkQ1GLSITMDAAAF1nAiBeMlE+AAAAAElFTkSuQmCC) |\n",
        "| 'b' | Blue | ![image.png](data:image/png;base64,iVBORw0KGgoAAAANSUhEUgAAABkAAAASCAYAAACuLnWgAAAAAXNSR0IArs4c6QAAAARnQU1BAACxjwv8YQUAAAAJcEhZcwAADsMAAA7DAcdvqGQAAAAuSURBVEhLY2Rg+P+fgcaACUrTFIxaQhIYtYQkMGoJSWDUEpLAqCUkATpYwsAAAKaTAiJr0XYkAAAAAElFTkSuQmCC) |\n",
        "| 'g' | Green | ![image.png](data:image/png;base64,iVBORw0KGgoAAAANSUhEUgAAABwAAAAUCAYAAACeXl35AAAAAXNSR0IArs4c6QAAAARnQU1BAACxjwv8YQUAAAAJcEhZcwAADsMAAA7DAcdvqGQAAAAwSURBVEhLY2TYEPCfgY6ACUrTDYxaSHUwaiHVwaiFVAejFlIdjFpIdTBqIZUBAwMAU1ICJ9g7IAsAAAAASUVORK5CYII=) |\n",
        "| 'k' | Black | ![image.png](data:image/png;base64,iVBORw0KGgoAAAANSUhEUgAAABsAAAAUCAYAAAB8gkaAAAAAAXNSR0IArs4c6QAAAARnQU1BAACxjwv8YQUAAAAJcEhZcwAADsMAAA7DAcdvqGQAAAAwSURBVEhLY2RgYPgPxHQBTFCaLmDUMqqAUcuoAkYtowoYtYwqYNQyqoBRy6gAGBgAKtsBJwbMRJwAAAAASUVORK5CYII=) |\n",
        "| 'y'| Yellow | ![image.png](data:image/png;base64,iVBORw0KGgoAAAANSUhEUgAAAB0AAAASCAYAAACnxdXaAAAAAXNSR0IArs4c6QAAAARnQU1BAACxjwv8YQUAAAAJcEhZcwAADsMAAA7DAcdvqGQAAAAuSURBVEhL7c2xAQAgDITA1/13fhtXIGm4hpLTphl2f0c5RTlFOUU5RTlFLUyTByweAyF9KZP3AAAAAElFTkSuQmCC) |\n",
        "| 'w'| White | ![image.png](data:image/png;base64,iVBORw0KGgoAAAANSUhEUgAAAB8AAAASCAYAAACjMAXnAAAAAXNSR0IArs4c6QAAAARnQU1BAACxjwv8YQUAAAAJcEhZcwAADsMAAA7DAcdvqGQAAAArSURBVEhL7c2hAQAACITA1/13VoM7ULhCpOYE0l+Ec4RzhHOEc4RzBDhPFqPtBCDgunKHAAAAAElFTkSuQmCC) |\n",
        "| 'c'| Cyan | ![image.png](data:image/png;base64,iVBORw0KGgoAAAANSUhEUgAAABsAAAATCAYAAABhh3Y4AAAAAXNSR0IArs4c6QAAAARnQU1BAACxjwv8YQUAAAAJcEhZcwAADsMAAA7DAcdvqGQAAAAvSURBVEhLY2T4f+Y/A50AE5SmCxi1jCpg1DKqgFHLqAJGLaMKGLWMKmC4WsbAAAAq7QLwiUY6XgAAAABJRU5ErkJggg==) |\n",
        "| 'm'| Magenta | ![image.png](data:image/png;base64,iVBORw0KGgoAAAANSUhEUgAAABoAAAAUCAYAAACTQC2+AAAAAXNSR0IArs4c6QAAAARnQU1BAACxjwv8YQUAAAAJcEhZcwAADsMAAA7DAcdvqGQAAAAvSURBVEhLY/zP8P8/Ax0AE5SmORi1iGwwahHZYNQissGoRWSDUYvIBqMWkQkYGAApJwMlTYS8VAAAAABJRU5ErkJggg==) |\n",
        "| style.use('dark_background')| Black background | ![image.png](data:image/png;base64,iVBORw0KGgoAAAANSUhEUgAAABsAAAAUCAYAAAB8gkaAAAAAAXNSR0IArs4c6QAAAARnQU1BAACxjwv8YQUAAAAJcEhZcwAADsMAAA7DAcdvqGQAAAAwSURBVEhLY2RgYPgPxHQBTFCaLmDUMqqAUcuoAkYtowoYtYwqYNQyqoBRy6gAGBgAKtsBJwbMRJwAAAAASUVORK5CYII=) |"
      ],
      "metadata": {
        "id": "MBJjbeY4pvTn"
      }
    },
    {
      "cell_type": "markdown",
      "source": [
        "6. Two plots in one graph. Plot x vs y and x vs z in the same graph\n",
        "\n",
        "| | | | | | | | | |  |  |\n",
        "|------|-------|------|------|------|------|------|------|------|------|------|\n",
        "| x | 1 | 2 | 3 | 4 | 5 | 6 | 7 | 8 | 9 | 10 |\n",
        "| y | 1 | 2 | 3 | 4 | 5 | 6 | 7 | 8 | 9 | 10 |\n",
        "| Z | 5 | 6 | 7 | 8 | 9 | 8 | 7 | 6 | 5 | 4 |\n",
        "\n",
        "Add the following properties to the graph <br>\n",
        "(a)\tGive different line color, line style\n",
        " and marker to both graph <br>\n",
        "(b)\tAdd a legend to identify x v y and x vs z plot, fix the legend location to upper left <br>\n",
        "(c)\tLimit the x axis from -2 to 11 and y-axis to-1 to 12<br>\n"
      ],
      "metadata": {
        "id": "Z4kuXd6Pu9O7"
      }
    },
    {
      "cell_type": "code",
      "source": [
        "import matplotlib.pyplot as plt\n",
        "x=[1,2,3,4,5,6,7,8,9,10]\n",
        "y=[1,2,3,4,5,6,7,8,9,10]\n",
        "z=[5,6,7,8,9,8,7,6,5,4]\n",
        "plt.plot(x,y,'--pr')\n",
        "plt.plot(x,z,':dg')\n",
        "plt.title('xy and xz graph',fontsize=18)\n",
        "plt.xlabel('x-data',fontsize=15)\n",
        "plt.ylabel('y/z-data',fontsize=15)\n",
        "plt.legend(['x vs y','x vs z'],loc='upper left')\n",
        "plt.xlim(-2,11)\n",
        "plt.ylim(-1,12)\n",
        "plt.grid()\n",
        "plt.show()\n"
      ],
      "metadata": {
        "colab": {
          "base_uri": "https://localhost:8080/",
          "height": 483
        },
        "id": "7zeLhnt8OZeh",
        "outputId": "41f05019-389a-4dfa-b21a-ffab807c4354"
      },
      "execution_count": null,
      "outputs": [
        {
          "output_type": "display_data",
          "data": {
            "text/plain": [
              "<Figure size 640x480 with 1 Axes>"
            ],
            "image/png": "[encoded data removed]"
          },
          "metadata": {}
        }
      ]
    },
    {
      "cell_type": "code",
      "source": [],
      "metadata": {
        "id": "kqbYKFtNPS3e"
      },
      "execution_count": null,
      "outputs": []
    }
  ]
}